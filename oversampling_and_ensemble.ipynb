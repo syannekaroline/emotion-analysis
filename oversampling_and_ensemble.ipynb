{
 "cells": [
  {
   "cell_type": "code",
   "execution_count": 1,
   "metadata": {},
   "outputs": [
    {
     "name": "stderr",
     "output_type": "stream",
     "text": [
      "[nltk_data] Downloading package rslp to /home/hit-\n",
      "[nltk_data]     notebook3/nltk_data...\n",
      "[nltk_data]   Package rslp is already up-to-date!\n",
      "[nltk_data] Downloading package stopwords to /home/hit-\n",
      "[nltk_data]     notebook3/nltk_data...\n",
      "[nltk_data]   Package stopwords is already up-to-date!\n",
      "[nltk_data] Downloading package rslp to /home/hit-\n",
      "[nltk_data]     notebook3/nltk_data...\n",
      "[nltk_data]   Package rslp is already up-to-date!\n",
      "[nltk_data] Downloading package stopwords to /home/hit-\n",
      "[nltk_data]     notebook3/nltk_data...\n",
      "[nltk_data]   Package stopwords is already up-to-date!\n"
     ]
    }
   ],
   "source": [
    "\n",
    "from sklearn.svm import SVC\n",
    "from sklearn.naive_bayes import MultinomialNB\n",
    "from sklearn.neighbors import KNeighborsClassifier\n",
    "from sklearn.model_selection import GridSearchCV, train_test_split\n",
    "from sklearn.metrics import accuracy_score, precision_score, recall_score, f1_score, confusion_matrix\n",
    "from sklearn.feature_extraction.text import CountVectorizer, TfidfVectorizer\n",
    "from sklearn.ensemble import VotingClassifier, BaggingClassifier, RandomForestClassifier, GradientBoostingClassifier \n",
    "from sklearn.ensemble import StackingClassifier, AdaBoostClassifier\n",
    "                              \n",
    "from nltk.tokenize import RegexpTokenizer\n",
    "from collections import Counter\n",
    "from unicodedata import normalize\n",
    "from imblearn.over_sampling import SMOTE\n",
    "import pandas as pd\n",
    "import nltk\n",
    "import numpy as np\n",
    "import string\n",
    "import emotion_analysis\n",
    "import matplotlib.pyplot as plt\n",
    "import seaborn as sns\n",
    "import warnings\n",
    "\n",
    "warnings.filterwarnings('ignore')\n",
    "nltk.download('rslp')\n",
    "nltk.download('stopwords')\n",
    "plt.style.use('seaborn')"
   ]
  },
  {
   "cell_type": "code",
   "execution_count": 2,
   "metadata": {},
   "outputs": [],
   "source": [
    "df = emotion_analysis.open_dataset('dataset.xlsx', 'xlsx')\n",
    "df.Emoção = df.Emoção.str.lower()"
   ]
  },
  {
   "cell_type": "code",
   "execution_count": 3,
   "metadata": {},
   "outputs": [],
   "source": [
    "df.Comentarios = df.Comentarios.apply(emotion_analysis.remove_characters)\n",
    "df.Comentarios = df.Comentarios.apply(emotion_analysis.remove_accents)\n",
    "df.Comentarios = df.Comentarios.apply(emotion_analysis.tokenize)\n",
    "df.Comentarios = df.Comentarios.apply(emotion_analysis.remove_stopwords)\n",
    "df.Comentarios = df.Comentarios.apply(emotion_analysis.untokenize)\n",
    "df.Comentarios = df.Comentarios.apply(emotion_analysis.stemming)"
   ]
  },
  {
   "cell_type": "code",
   "execution_count": 4,
   "metadata": {},
   "outputs": [],
   "source": [
    "X, y = df.Comentarios, df.Emoção\n",
    "X = emotion_analysis.vectorizer(X, 'tfidf')\n",
    "train_size = .8\n",
    "X_train, X_test, y_train, y_test = emotion_analysis.dataset_split(X, y, train_size)"
   ]
  },
  {
   "cell_type": "code",
   "execution_count": 5,
   "metadata": {},
   "outputs": [],
   "source": [
    "oversample = SMOTE(random_state=0)\n",
    "X_train_ressampled, y_train_ressampled, = oversample.fit_resample(X_train, y_train)"
   ]
  },
  {
   "cell_type": "code",
   "execution_count": 6,
   "metadata": {},
   "outputs": [
    {
     "name": "stdout",
     "output_type": "stream",
     "text": [
      "====================\n",
      "Naive Bayes best parameters: {'alpha': 0.1, 'fit_prior': False}\n",
      "Naive Bayes best accuracy in 10 folds: 82.23684210526315\n",
      "====================\n",
      "====================\n",
      "Support Vector Machine best parameters: {'C': 100, 'gamma': 0.001, 'kernel': 'linear'}\n",
      "Support Vector Machine best accuracy in 10 folds: 87.36842105263158\n",
      "====================\n",
      "====================\n",
      "K-Nearest Neighbors best parameters: {'algorithm': 'auto', 'n_neighbors': 3}\n",
      "K-Nearest Neighbors best accuracy in 10 folds: 74.47368421052632\n",
      "====================\n"
     ]
    }
   ],
   "source": [
    "NB  = emotion_analysis.cv_train(classifier_name='NB',  X=X_train_ressampled, y= y_train_ressampled, n_fold=10)\n",
    "SVM = emotion_analysis.cv_train(classifier_name='SVM', X=X_train_ressampled, y= y_train_ressampled, n_fold=10)\n",
    "KNN = emotion_analysis.cv_train(classifier_name='KNN', X=X_train_ressampled, y= y_train_ressampled, n_fold=10)\n",
    "\n",
    "pred_nb  = NB.predict(X_test)   # Naive Bayes prediction\n",
    "pred_svm = SVM.predict(X_test)  # SVM prediction\n",
    "pred_knn = KNN.predict(X_test)  # KNN prediction"
   ]
  },
  {
   "cell_type": "code",
   "execution_count": 7,
   "metadata": {},
   "outputs": [],
   "source": [
    "NB  = MultinomialNB(alpha = 1, fit_prior= True).fit(X_train_ressampled, y_train_ressampled)\n",
    "SVM = SVC(C=1, gamma = 1e-4, kernel='linear').fit(X_train_ressampled, y_train_ressampled)\n",
    "KNN = KNeighborsClassifier(algorithm='auto', n_neighbors=3).fit(X_train_ressampled, y_train_ressampled)"
   ]
  },
  {
   "cell_type": "markdown",
   "metadata": {},
   "source": [
    "## Voting classifier"
   ]
  },
  {
   "cell_type": "code",
   "execution_count": 8,
   "metadata": {},
   "outputs": [
    {
     "name": "stdout",
     "output_type": "stream",
     "text": [
      "[Voting] ...................... (1 of 3) Processing svm, total=   0.0s\n",
      "[Voting] ....................... (2 of 3) Processing nb, total=   0.0s\n",
      "[Voting] ...................... (3 of 3) Processing knn, total=   0.0s\n"
     ]
    }
   ],
   "source": [
    "estimators = [('svm', SVM),\n",
    "              ('nb', NB),\n",
    "              ('knn', KNN)]\n",
    "\n",
    "voting = VotingClassifier(estimators = estimators,\n",
    "                          voting     = 'hard',\n",
    "                          verbose    = True).fit(X_train_ressampled, y_train_ressampled)"
   ]
  },
  {
   "cell_type": "code",
   "execution_count": 9,
   "metadata": {},
   "outputs": [
    {
     "name": "stdout",
     "output_type": "stream",
     "text": [
      "====================\n",
      "Voting Classifier Metrics:\n",
      "Accuracy: 0.6571428571428571\n",
      "Precision: 0.6364389233954452\n",
      "Recall: 0.5711739241151005\n",
      "F1-Score: 0.5833333333333333\n",
      "====================\n"
     ]
    }
   ],
   "source": [
    "pred_voting = voting.predict(X_test)\n",
    "accuracy_voting  = accuracy_score(y_test, pred_voting)\n",
    "precision_voting = precision_score(y_test, pred_voting, average='macro')\n",
    "recall_voting    = recall_score(y_test, pred_voting, average='macro')\n",
    "fscore_voting    = f1_score(y_test, pred_voting, average='macro')\n",
    "print('='*20)\n",
    "print('Voting Classifier Metrics:')\n",
    "print(f'Accuracy: {accuracy_voting}')\n",
    "print(f'Precision: {precision_voting}')\n",
    "print(f'Recall: {recall_voting}')\n",
    "print(f'F1-Score: {fscore_voting}')\n",
    "print('='*20)"
   ]
  },
  {
   "cell_type": "markdown",
   "metadata": {},
   "source": [
    "## Bagging Classifier"
   ]
  },
  {
   "cell_type": "code",
   "execution_count": 10,
   "metadata": {},
   "outputs": [
    {
     "name": "stderr",
     "output_type": "stream",
     "text": [
      "[Parallel(n_jobs=1)]: Using backend SequentialBackend with 1 concurrent workers.\n",
      "[Parallel(n_jobs=1)]: Done   1 out of   1 | elapsed:    4.8s finished\n"
     ]
    }
   ],
   "source": [
    "# svm\n",
    "bagging_svm = BaggingClassifier(base_estimator = SVM,\n",
    "                            n_estimators   = 500,\n",
    "                            bootstrap=True,\n",
    "                            verbose=True).fit(X_train_ressampled, y_train_ressampled)"
   ]
  },
  {
   "cell_type": "code",
   "execution_count": 11,
   "metadata": {},
   "outputs": [
    {
     "name": "stderr",
     "output_type": "stream",
     "text": [
      "[Parallel(n_jobs=1)]: Using backend SequentialBackend with 1 concurrent workers.\n",
      "[Parallel(n_jobs=1)]: Done   1 out of   1 | elapsed:    2.6s finished\n"
     ]
    }
   ],
   "source": [
    "# naive bayes\n",
    "bagging_nb = BaggingClassifier(base_estimator = NB,\n",
    "                            n_estimators   = 500,\n",
    "                            bootstrap=True,\n",
    "                            verbose=True).fit(X_train_ressampled, y_train_ressampled)"
   ]
  },
  {
   "cell_type": "code",
   "execution_count": 12,
   "metadata": {},
   "outputs": [
    {
     "name": "stderr",
     "output_type": "stream",
     "text": [
      "[Parallel(n_jobs=1)]: Using backend SequentialBackend with 1 concurrent workers.\n",
      "[Parallel(n_jobs=1)]: Done   1 out of   1 | elapsed:    1.3s finished\n"
     ]
    }
   ],
   "source": [
    "# knn\n",
    "bagging_knn = BaggingClassifier(base_estimator = KNN,\n",
    "                            n_estimators   = 500,\n",
    "                            bootstrap=True,\n",
    "                            verbose=True).fit(X_train_ressampled, y_train_ressampled)"
   ]
  },
  {
   "cell_type": "code",
   "execution_count": 13,
   "metadata": {},
   "outputs": [
    {
     "name": "stderr",
     "output_type": "stream",
     "text": [
      "[Parallel(n_jobs=1)]: Using backend SequentialBackend with 1 concurrent workers.\n",
      "[Parallel(n_jobs=1)]: Done   1 out of   1 | elapsed:    1.0s finished\n",
      "[Parallel(n_jobs=1)]: Using backend SequentialBackend with 1 concurrent workers.\n",
      "[Parallel(n_jobs=1)]: Done   1 out of   1 | elapsed:    0.4s finished\n",
      "[Parallel(n_jobs=1)]: Using backend SequentialBackend with 1 concurrent workers.\n",
      "[Parallel(n_jobs=1)]: Done   1 out of   1 | elapsed:    0.9s finished\n"
     ]
    }
   ],
   "source": [
    "bagging = [bagging_svm.predict(X_test),\n",
    "           bagging_nb.predict(X_test),\n",
    "           bagging_knn.predict(X_test)]"
   ]
  },
  {
   "cell_type": "code",
   "execution_count": 14,
   "metadata": {},
   "outputs": [
    {
     "name": "stdout",
     "output_type": "stream",
     "text": [
      "Bagging Classifiers Metrics:\n",
      "========================================\n",
      "bg_SVM accuracy: 0.6857142857142857\n",
      "bg_NB accuracy: 0.6857142857142857\n",
      "bg_KNN accuracy: 0.4\n",
      "----------------------------------------\n",
      "bg_SVM Precision: 0.6888888888888888\n",
      "bg_NB Precision: 0.6381766381766382\n",
      "bg_KNN Precision: 0.46420940170940167\n",
      "----------------------------------------\n",
      "bg_SVM Recall: 0.5907817672523555\n",
      "bg_NB Recall: 0.6228673287496816\n",
      "bg_KNN Recall: 0.40132416603004833\n",
      "----------------------------------------\n",
      "bg_SVM F1-Score: 0.6065678303841862\n",
      "bg_NB F1-Score: 0.6188311688311688\n",
      "bg_KNN F1-Score: 0.3993748223927252\n",
      "========================================\n"
     ]
    }
   ],
   "source": [
    "bg_accuracy  = []\n",
    "bg_precision = []\n",
    "bg_recall    = []\n",
    "bg_fscore    = []\n",
    "\n",
    "labels = ['bg_SVM', 'bg_NB', 'bg_KNN']\n",
    "for k in range(len(bagging)):\n",
    "    bg_accuracy.append(accuracy_score(y_test, bagging[k]))\n",
    "    bg_precision.append(precision_score(y_test, bagging[k], average = 'macro'))\n",
    "    bg_recall.append(recall_score(y_test, bagging[k], average = 'macro'))\n",
    "    bg_fscore.append(f1_score(y_test, bagging[k], average = 'macro'))\n",
    "print('Bagging Classifiers Metrics:')\n",
    "print('='*40)\n",
    "for k in range(len(bagging)):\n",
    "    print(f'{labels[k]} accuracy: {bg_accuracy[k]}')\n",
    "print('-'*40)\n",
    "for k in range(len(bagging)):\n",
    "    print(f'{labels[k]} Precision: {bg_precision[k]}')\n",
    "print('-'*40)\n",
    "for k in range(len(bagging)):\n",
    "    print(f'{labels[k]} Recall: {bg_recall[k]}')\n",
    "print('-'*40)\n",
    "for k in range(len(bagging)):\n",
    "    print(f'{labels[k]} F1-Score: {bg_fscore[k]}')\n",
    "print('='*40)"
   ]
  },
  {
   "cell_type": "markdown",
   "metadata": {},
   "source": [
    "## Stacking Classifier"
   ]
  },
  {
   "cell_type": "code",
   "execution_count": 15,
   "metadata": {},
   "outputs": [
    {
     "name": "stderr",
     "output_type": "stream",
     "text": [
      "[Parallel(n_jobs=1)]: Using backend SequentialBackend with 1 concurrent workers.\n",
      "[Parallel(n_jobs=1)]: Done   5 out of   5 | elapsed:    0.1s finished\n",
      "[Parallel(n_jobs=1)]: Using backend SequentialBackend with 1 concurrent workers.\n",
      "[Parallel(n_jobs=1)]: Done   5 out of   5 | elapsed:    0.0s finished\n",
      "[Parallel(n_jobs=1)]: Using backend SequentialBackend with 1 concurrent workers.\n",
      "[Parallel(n_jobs=1)]: Done   5 out of   5 | elapsed:    0.0s finished\n"
     ]
    },
    {
     "name": "stdout",
     "output_type": "stream",
     "text": [
      "====================\n",
      "Stacking Classifier Metrics:\n",
      "Accuracy: 0.6857142857142857\n",
      "Precision: 0.6888888888888888\n",
      "Recall: 0.5907817672523555\n",
      "F1-Score: 0.5833333333333333\n",
      "====================\n"
     ]
    }
   ],
   "source": [
    "stacking = StackingClassifier(estimators = estimators,\n",
    "                              final_estimator= SVC(),\n",
    "                              verbose    = True).fit(X_train_ressampled, y_train_ressampled)\n",
    "\n",
    "pred_stacking = stacking.predict(X_test)\n",
    "\n",
    "accuracy_stacking  = accuracy_score(y_test, pred_stacking)\n",
    "precision_stacking = precision_score(y_test, pred_stacking, average='macro')\n",
    "recall_stacking    = recall_score(y_test, pred_stacking, average='macro')\n",
    "fscore_stacking    = f1_score(y_test, pred_voting, average='macro')\n",
    "print('='*20)\n",
    "print('Stacking Classifier Metrics:')\n",
    "print(f'Accuracy: {accuracy_stacking}')\n",
    "print(f'Precision: {precision_stacking}')\n",
    "print(f'Recall: {recall_stacking}')\n",
    "print(f'F1-Score: {fscore_stacking}')\n",
    "print('='*20)"
   ]
  }
 ],
 "metadata": {
  "kernelspec": {
   "display_name": "Python 3.8.10 64-bit",
   "language": "python",
   "name": "python3"
  },
  "language_info": {
   "codemirror_mode": {
    "name": "ipython",
    "version": 3
   },
   "file_extension": ".py",
   "mimetype": "text/x-python",
   "name": "python",
   "nbconvert_exporter": "python",
   "pygments_lexer": "ipython3",
   "version": "3.8.10"
  },
  "orig_nbformat": 4,
  "vscode": {
   "interpreter": {
    "hash": "916dbcbb3f70747c44a77c7bcd40155683ae19c65e1c03b4aa3499c5328201f1"
   }
  }
 },
 "nbformat": 4,
 "nbformat_minor": 2
}
