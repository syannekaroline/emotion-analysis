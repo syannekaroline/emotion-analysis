{
 "cells": [
  {
   "cell_type": "markdown",
   "metadata": {},
   "source": [
    "## Emotion analysis and classification of short comments using machine learning techniques\n",
    "+ Code developed by: Douglas Maia dos Santos\n",
    "+ Github acess: https://github.com/m-dougl/emotion-analysis"
   ]
  },
  {
   "cell_type": "markdown",
   "metadata": {},
   "source": [
    "##### Importing libraries for proper code functioning\n",
    "The purpose of this code is to test the impacto of the oversampling function on the models that were implemented in \"main.ipynb\""
   ]
  },
  {
   "cell_type": "code",
   "execution_count": 1,
   "metadata": {},
   "outputs": [
    {
     "name": "stderr",
     "output_type": "stream",
     "text": [
      "[nltk_data] Downloading package rslp to /home/hit-\n",
      "[nltk_data]     notebook3/nltk_data...\n",
      "[nltk_data]   Package rslp is already up-to-date!\n",
      "[nltk_data] Downloading package stopwords to /home/hit-\n",
      "[nltk_data]     notebook3/nltk_data...\n",
      "[nltk_data]   Package stopwords is already up-to-date!\n",
      "[nltk_data] Downloading package rslp to /home/hit-\n",
      "[nltk_data]     notebook3/nltk_data...\n",
      "[nltk_data]   Package rslp is already up-to-date!\n",
      "[nltk_data] Downloading package stopwords to /home/hit-\n",
      "[nltk_data]     notebook3/nltk_data...\n",
      "[nltk_data]   Package stopwords is already up-to-date!\n"
     ]
    }
   ],
   "source": [
    "\n",
    "from sklearn.svm import SVC\n",
    "from sklearn.naive_bayes import MultinomialNB\n",
    "from sklearn.neighbors import KNeighborsClassifier\n",
    "from sklearn.model_selection import GridSearchCV, train_test_split\n",
    "from sklearn.metrics import accuracy_score, precision_score, recall_score, f1_score, confusion_matrix\n",
    "from sklearn.feature_extraction.text import CountVectorizer, TfidfVectorizer\n",
    "from sklearn.ensemble import VotingClassifier, BaggingClassifier, RandomForestClassifier, GradientBoostingClassifier \n",
    "from sklearn.ensemble import StackingClassifier, AdaBoostClassifier\n",
    "                              \n",
    "from nltk.tokenize import RegexpTokenizer\n",
    "from collections import Counter\n",
    "from unicodedata import normalize\n",
    "from imblearn.over_sampling import SMOTE\n",
    "import pandas as pd\n",
    "import nltk\n",
    "import numpy as np\n",
    "import string\n",
    "import emotion_analysis\n",
    "import matplotlib.pyplot as plt\n",
    "import seaborn as sns\n",
    "import warnings\n",
    "\n",
    "warnings.filterwarnings('ignore')\n",
    "nltk.download('rslp')\n",
    "nltk.download('stopwords')\n",
    "plt.style.use('seaborn')"
   ]
  },
  {
   "cell_type": "markdown",
   "metadata": {},
   "source": [
    "### Pre processing part"
   ]
  },
  {
   "cell_type": "code",
   "execution_count": 2,
   "metadata": {},
   "outputs": [],
   "source": [
    "df = emotion_analysis.open_dataset('dataset.xlsx', 'xlsx')\n",
    "df.Emoção = df.Emoção.str.lower()"
   ]
  },
  {
   "cell_type": "code",
   "execution_count": 3,
   "metadata": {},
   "outputs": [],
   "source": [
    "df.Comentarios = df.Comentarios.apply(emotion_analysis.remove_characters)\n",
    "df.Comentarios = df.Comentarios.apply(emotion_analysis.remove_accents)\n",
    "df.Comentarios = df.Comentarios.apply(emotion_analysis.tokenize)\n",
    "df.Comentarios = df.Comentarios.apply(emotion_analysis.remove_stopwords)\n",
    "df.Comentarios = df.Comentarios.apply(emotion_analysis.untokenize)\n",
    "df.Comentarios = df.Comentarios.apply(emotion_analysis.stemming)"
   ]
  },
  {
   "cell_type": "code",
   "execution_count": 4,
   "metadata": {},
   "outputs": [],
   "source": [
    "X, y = df.Comentarios, df.Emoção\n",
    "X = emotion_analysis.vectorizer(X, 'tfidf')"
   ]
  },
  {
   "cell_type": "code",
   "execution_count": 5,
   "metadata": {},
   "outputs": [],
   "source": [
    "train_size = .8\n",
    "X_train, X_test, y_train, y_test = emotion_analysis.dataset_split(X, y, train_size)"
   ]
  },
  {
   "cell_type": "code",
   "execution_count": 6,
   "metadata": {},
   "outputs": [
    {
     "name": "stdout",
     "output_type": "stream",
     "text": [
      "====================\n",
      "Naive Bayes best parameters: {'alpha': 100, 'fit_prior': False}\n",
      "Naive Bayes best accuracy in 10 folds: 64.5054945054945\n",
      "====================\n",
      "====================\n",
      "Support Vector Machine best parameters: {'C': 1, 'gamma': 1, 'kernel': 'sigmoid'}\n",
      "Support Vector Machine best accuracy in 10 folds: 60.87912087912088\n",
      "====================\n",
      "====================\n",
      "K-Nearest Neighbors best parameters: {'algorithm': 'auto', 'n_neighbors': 6}\n",
      "K-Nearest Neighbors best accuracy in 10 folds: 55.16483516483517\n",
      "====================\n"
     ]
    },
    {
     "data": {
      "text/plain": [
       "'\\npred_nb  = NB.predict(X_test)   # Naive Bayes prediction\\npred_svm = SVM.predict(X_test)  # SVM prediction\\npred_knn = KNN.predict(X_test)  # KNN prediction\\n'"
      ]
     },
     "execution_count": 6,
     "metadata": {},
     "output_type": "execute_result"
    }
   ],
   "source": [
    "n_fold = 10\n",
    "NB  = emotion_analysis.cv_train(classifier_name='NB',  X=X_train, y= y_train, n_fold=n_fold)\n",
    "SVM = emotion_analysis.cv_train(classifier_name='SVM', X=X_train, y= y_train, n_fold=n_fold)\n",
    "KNN = emotion_analysis.cv_train(classifier_name='KNN', X=X_train, y= y_train, n_fold=n_fold)\n",
    "'''\n",
    "pred_nb  = NB.predict(X_test)   # Naive Bayes prediction\n",
    "pred_svm = SVM.predict(X_test)  # SVM prediction\n",
    "pred_knn = KNN.predict(X_test)  # KNN prediction\n",
    "'''"
   ]
  },
  {
   "cell_type": "code",
   "execution_count": 7,
   "metadata": {},
   "outputs": [],
   "source": [
    "SVM = SVC(C=1000, gamma= 1e-3, kernel = 'rbf').fit(X_train, y_train)\n",
    "NB  = MultinomialNB(alpha = 1, fit_prior= False).fit(X_train, y_train)\n",
    "KNN = KNeighborsClassifier(algorithm='auto', n_neighbors=5).fit(X_train, y_train)\n",
    "estimators = [('svm', SVM),\n",
    "              ('nb', NB),\n",
    "              ('knn', KNN)]"
   ]
  },
  {
   "cell_type": "markdown",
   "metadata": {},
   "source": [
    "### Ensemble: Votting Classifier"
   ]
  },
  {
   "cell_type": "code",
   "execution_count": 8,
   "metadata": {},
   "outputs": [
    {
     "name": "stdout",
     "output_type": "stream",
     "text": [
      "[Voting] ...................... (1 of 3) Processing svm, total=   0.0s\n",
      "[Voting] ....................... (2 of 3) Processing nb, total=   0.0s\n",
      "[Voting] ...................... (3 of 3) Processing knn, total=   0.0s\n"
     ]
    }
   ],
   "source": [
    "voting = VotingClassifier(estimators = estimators,\n",
    "                          voting     = 'hard',\n",
    "                          verbose    = True).fit(X_train, y_train)"
   ]
  },
  {
   "cell_type": "code",
   "execution_count": 9,
   "metadata": {},
   "outputs": [],
   "source": [
    "pred_voting = voting.predict(X_test)"
   ]
  },
  {
   "cell_type": "code",
   "execution_count": 10,
   "metadata": {},
   "outputs": [
    {
     "name": "stdout",
     "output_type": "stream",
     "text": [
      "====================\n",
      "Voting Classifier Metrics:\n",
      "Accuracy: 0.5428571428571428\n",
      "Precision: 0.5760869565217391\n",
      "Recall: 0.49444444444444446\n",
      "F1-Score: 0.5040935672514619\n",
      "====================\n"
     ]
    }
   ],
   "source": [
    "accuracy_voting  = accuracy_score(y_test, pred_voting)\n",
    "precision_voting = precision_score(y_test, pred_voting, average='macro')\n",
    "recall_voting    = recall_score(y_test, pred_voting, average='macro')\n",
    "fscore_voting    = f1_score(y_test, pred_voting, average='macro')\n",
    "print('='*20)\n",
    "print('Voting Classifier Metrics:')\n",
    "print(f'Accuracy: {accuracy_voting}')\n",
    "print(f'Precision: {precision_voting}')\n",
    "print(f'Recall: {recall_voting}')\n",
    "print(f'F1-Score: {fscore_voting}')\n",
    "print('='*20)"
   ]
  },
  {
   "cell_type": "markdown",
   "metadata": {},
   "source": [
    "### Ensemble: Bagging Classifier"
   ]
  },
  {
   "cell_type": "code",
   "execution_count": 11,
   "metadata": {},
   "outputs": [
    {
     "name": "stderr",
     "output_type": "stream",
     "text": [
      "[Parallel(n_jobs=1)]: Using backend SequentialBackend with 1 concurrent workers.\n",
      "[Parallel(n_jobs=1)]: Done   1 out of   1 | elapsed:    3.0s finished\n"
     ]
    }
   ],
   "source": [
    "# svm\n",
    "bagging_svm = BaggingClassifier(base_estimator = SVM,\n",
    "                            n_estimators   = 500,\n",
    "                            bootstrap=True,\n",
    "                            verbose=True).fit(X_train, y_train)"
   ]
  },
  {
   "cell_type": "code",
   "execution_count": 12,
   "metadata": {},
   "outputs": [
    {
     "name": "stderr",
     "output_type": "stream",
     "text": [
      "[Parallel(n_jobs=1)]: Using backend SequentialBackend with 1 concurrent workers.\n",
      "[Parallel(n_jobs=1)]: Done   1 out of   1 | elapsed:    1.6s finished\n"
     ]
    }
   ],
   "source": [
    "# naive bayes\n",
    "bagging_nb = BaggingClassifier(base_estimator = NB,\n",
    "                            n_estimators   = 500,\n",
    "                            bootstrap=True,\n",
    "                            verbose=True).fit(X_train, y_train)"
   ]
  },
  {
   "cell_type": "code",
   "execution_count": 13,
   "metadata": {},
   "outputs": [
    {
     "name": "stderr",
     "output_type": "stream",
     "text": [
      "[Parallel(n_jobs=1)]: Using backend SequentialBackend with 1 concurrent workers.\n",
      "[Parallel(n_jobs=1)]: Done   1 out of   1 | elapsed:    1.6s finished\n"
     ]
    }
   ],
   "source": [
    "# knn\n",
    "bagging_knn = BaggingClassifier(base_estimator = KNN,\n",
    "                            n_estimators   = 500,\n",
    "                            bootstrap=True,\n",
    "                            verbose=True).fit(X_train, y_train)"
   ]
  },
  {
   "cell_type": "code",
   "execution_count": 14,
   "metadata": {},
   "outputs": [
    {
     "name": "stderr",
     "output_type": "stream",
     "text": [
      "[Parallel(n_jobs=1)]: Using backend SequentialBackend with 1 concurrent workers.\n",
      "[Parallel(n_jobs=1)]: Done   1 out of   1 | elapsed:    1.0s finished\n",
      "[Parallel(n_jobs=1)]: Using backend SequentialBackend with 1 concurrent workers.\n",
      "[Parallel(n_jobs=1)]: Done   1 out of   1 | elapsed:    0.3s finished\n",
      "[Parallel(n_jobs=1)]: Using backend SequentialBackend with 1 concurrent workers.\n",
      "[Parallel(n_jobs=1)]: Done   1 out of   1 | elapsed:    1.0s finished\n"
     ]
    }
   ],
   "source": [
    "bagging = [bagging_svm.predict(X_test),\n",
    "           bagging_nb.predict(X_test),\n",
    "           bagging_knn.predict(X_test)]"
   ]
  },
  {
   "cell_type": "code",
   "execution_count": 15,
   "metadata": {},
   "outputs": [
    {
     "name": "stdout",
     "output_type": "stream",
     "text": [
      "Bagging Classifiers Metrics:\n",
      "========================================\n",
      "bg_SVM accuracy: 0.5714285714285714\n",
      "bg_NB accuracy: 0.6571428571428571\n",
      "bg_KNN accuracy: 0.4857142857142857\n",
      "----------------------------------------\n",
      "bg_SVM Precision: 0.5499999999999999\n",
      "bg_NB Precision: 0.6657097288676237\n",
      "bg_KNN Precision: 0.46158730158730155\n",
      "----------------------------------------\n",
      "bg_SVM Recall: 0.5222222222222223\n",
      "bg_NB Recall: 0.6194444444444445\n",
      "bg_KNN Recall: 0.41944444444444445\n",
      "----------------------------------------\n",
      "bg_SVM F1-Score: 0.5242091242091242\n",
      "bg_NB F1-Score: 0.630401993573349\n",
      "bg_KNN F1-Score: 0.400956937799043\n",
      "========================================\n"
     ]
    }
   ],
   "source": [
    "bg_accuracy  = []\n",
    "bg_precision = []\n",
    "bg_recall    = []\n",
    "bg_fscore    = []\n",
    "\n",
    "labels = ['bg_SVM', 'bg_NB', 'bg_KNN']\n",
    "for k in range(len(bagging)):\n",
    "    bg_accuracy.append(accuracy_score(y_test, bagging[k]))\n",
    "    bg_precision.append(precision_score(y_test, bagging[k], average = 'macro'))\n",
    "    bg_recall.append(recall_score(y_test, bagging[k], average = 'macro'))\n",
    "    bg_fscore.append(f1_score(y_test, bagging[k], average = 'macro'))\n",
    "print('Bagging Classifiers Metrics:')\n",
    "print('='*40)\n",
    "for k in range(len(bagging)):\n",
    "    print(f'{labels[k]} accuracy: {bg_accuracy[k]}')\n",
    "print('-'*40)\n",
    "for k in range(len(bagging)):\n",
    "    print(f'{labels[k]} Precision: {bg_precision[k]}')\n",
    "print('-'*40)\n",
    "for k in range(len(bagging)):\n",
    "    print(f'{labels[k]} Recall: {bg_recall[k]}')\n",
    "print('-'*40)\n",
    "for k in range(len(bagging)):\n",
    "    print(f'{labels[k]} F1-Score: {bg_fscore[k]}')\n",
    "print('='*40)"
   ]
  },
  {
   "cell_type": "markdown",
   "metadata": {},
   "source": [
    "### Ensemble: RandomForestClassifier"
   ]
  },
  {
   "cell_type": "code",
   "execution_count": 16,
   "metadata": {},
   "outputs": [
    {
     "name": "stdout",
     "output_type": "stream",
     "text": [
      "====================\n",
      "Random Forest Classifier Metrics:\n",
      "Accuracy: 0.5714285714285714\n",
      "Precision: 0.4583333333333333\n",
      "Recall: 0.4833333333333334\n",
      "F1-Score: 0.4447154471544716\n",
      "====================\n"
     ]
    }
   ],
   "source": [
    "random_forest = RandomForestClassifier()\n",
    "random_forest.fit(X_train, y_train)\n",
    "\n",
    "rf_predict = random_forest.predict(X_test)\n",
    "\n",
    "accuracy_rf  = accuracy_score(y_test, rf_predict)\n",
    "precision_rf = precision_score(y_test, rf_predict, average='macro')\n",
    "recall_rf    = recall_score(y_test, rf_predict, average='macro')\n",
    "fscore_rf    = f1_score(y_test, rf_predict, average='macro')\n",
    "print('='*20)\n",
    "print('Random Forest Classifier Metrics:')\n",
    "print(f'Accuracy: {accuracy_rf}')\n",
    "print(f'Precision: {precision_rf}')\n",
    "print(f'Recall: {recall_rf}')\n",
    "print(f'F1-Score: {fscore_rf}')\n",
    "print('='*20)"
   ]
  },
  {
   "cell_type": "markdown",
   "metadata": {},
   "source": [
    "### Ensemble: Gradient Tree boosting"
   ]
  },
  {
   "cell_type": "code",
   "execution_count": 17,
   "metadata": {},
   "outputs": [
    {
     "name": "stdout",
     "output_type": "stream",
     "text": [
      "====================\n",
      "Gradient Boosting Classifier Metrics:\n",
      "Accuracy: 0.6285714285714286\n",
      "Precision: 0.6698872785829307\n",
      "Recall: 0.5666666666666668\n",
      "F1-Score: 0.5715045188729398\n",
      "====================\n"
     ]
    }
   ],
   "source": [
    "gradient = GradientBoostingClassifier()\n",
    "gradient.fit(X_train, y_train)\n",
    "\n",
    "gradient_predict = gradient.predict(X_test)\n",
    "\n",
    "accuracy_gradient  = accuracy_score(y_test, gradient_predict)\n",
    "precision_gradient = precision_score(y_test, gradient_predict, average='macro')\n",
    "recall_gradient    = recall_score(y_test, gradient_predict, average='macro')\n",
    "fscore_gradient    = f1_score(y_test, gradient_predict, average='macro')\n",
    "print('='*20)\n",
    "print('Gradient Boosting Classifier Metrics:')\n",
    "print(f'Accuracy: {accuracy_gradient}')\n",
    "print(f'Precision: {precision_gradient}')\n",
    "print(f'Recall: {recall_gradient}')\n",
    "print(f'F1-Score: {fscore_gradient}')\n",
    "print('='*20)"
   ]
  },
  {
   "cell_type": "markdown",
   "metadata": {},
   "source": [
    "### Ensemble: Stacking Classifier"
   ]
  },
  {
   "cell_type": "code",
   "execution_count": 18,
   "metadata": {},
   "outputs": [],
   "source": [
    "SVM = SVC(C=1000, gamma= 1e-3, kernel = 'rbf').fit(X_train, y_train)\n",
    "NB  = MultinomialNB(alpha = 1, fit_prior= False).fit(X_train, y_train)\n",
    "KNN = KNeighborsClassifier(algorithm='auto', n_neighbors=5).fit(X_train, y_train)\n",
    "estimators = [('svm', SVM),\n",
    "              ('nb', NB),\n",
    "              ('knn', KNN)]"
   ]
  },
  {
   "cell_type": "code",
   "execution_count": 19,
   "metadata": {},
   "outputs": [
    {
     "name": "stderr",
     "output_type": "stream",
     "text": [
      "[Parallel(n_jobs=1)]: Using backend SequentialBackend with 1 concurrent workers.\n",
      "[Parallel(n_jobs=1)]: Done   5 out of   5 | elapsed:    0.0s finished\n",
      "[Parallel(n_jobs=1)]: Using backend SequentialBackend with 1 concurrent workers.\n",
      "[Parallel(n_jobs=1)]: Done   5 out of   5 | elapsed:    0.0s finished\n",
      "[Parallel(n_jobs=1)]: Using backend SequentialBackend with 1 concurrent workers.\n",
      "[Parallel(n_jobs=1)]: Done   5 out of   5 | elapsed:    0.0s finished\n"
     ]
    },
    {
     "name": "stdout",
     "output_type": "stream",
     "text": [
      "====================\n",
      "Stacking Classifier Metrics:\n",
      "Accuracy: 0.5142857142857142\n",
      "Precision: 0.49427609427609426\n",
      "Recall: 0.48333333333333334\n",
      "F1-Score: 0.5040935672514619\n",
      "====================\n"
     ]
    }
   ],
   "source": [
    "stacking = StackingClassifier(estimators = estimators,\n",
    "                              final_estimator= GradientBoostingClassifier(),\n",
    "                              verbose    = True).fit(X_train, y_train)\n",
    "\n",
    "pred_stacking = stacking.predict(X_test)\n",
    "\n",
    "accuracy_stacking  = accuracy_score(y_test, pred_stacking)\n",
    "precision_stacking = precision_score(y_test, pred_stacking, average='macro')\n",
    "recall_stacking    = recall_score(y_test, pred_stacking, average='macro')\n",
    "fscore_stacking    = f1_score(y_test, pred_voting, average='macro')\n",
    "print('='*20)\n",
    "print('Stacking Classifier Metrics:')\n",
    "print(f'Accuracy: {accuracy_stacking}')\n",
    "print(f'Precision: {precision_stacking}')\n",
    "print(f'Recall: {recall_stacking}')\n",
    "print(f'F1-Score: {fscore_stacking}')\n",
    "print('='*20)"
   ]
  },
  {
   "cell_type": "markdown",
   "metadata": {},
   "source": [
    "### Neural Network Test"
   ]
  },
  {
   "cell_type": "code",
   "execution_count": 20,
   "metadata": {},
   "outputs": [
    {
     "name": "stdout",
     "output_type": "stream",
     "text": [
      "Iteration 1, loss = 1.15909083\n",
      "Iteration 2, loss = 1.09165743\n",
      "Iteration 3, loss = 0.99230641\n",
      "Iteration 4, loss = 0.86676601\n",
      "Iteration 5, loss = 0.72419439\n",
      "Iteration 6, loss = 0.59304085\n",
      "Iteration 7, loss = 0.48627982\n",
      "Iteration 8, loss = 0.41003334\n",
      "Iteration 9, loss = 0.34230641\n",
      "Iteration 10, loss = 0.28531676\n",
      "Iteration 11, loss = 0.23531892\n",
      "Iteration 12, loss = 0.19191103\n",
      "Iteration 13, loss = 0.15817284\n",
      "Iteration 14, loss = 0.13254473\n",
      "Iteration 15, loss = 0.11081918\n",
      "Iteration 16, loss = 0.09463672\n",
      "Iteration 17, loss = 0.08210177\n",
      "Iteration 18, loss = 0.07239446\n",
      "Iteration 19, loss = 0.06558020\n",
      "Iteration 20, loss = 0.05970599\n",
      "Iteration 21, loss = 0.05490843\n",
      "Iteration 22, loss = 0.05175539\n",
      "Iteration 23, loss = 0.04793102\n",
      "Iteration 24, loss = 0.04623894\n",
      "Iteration 25, loss = 0.04411951\n",
      "Iteration 26, loss = 0.04269187\n",
      "Iteration 27, loss = 0.03989013\n",
      "Iteration 28, loss = 0.03776504\n",
      "Iteration 29, loss = 0.03622000\n",
      "Iteration 30, loss = 0.03493841\n",
      "Iteration 31, loss = 0.03537935\n",
      "Iteration 32, loss = 0.03235960\n",
      "Iteration 33, loss = 0.03205908\n",
      "Iteration 34, loss = 0.03051487\n",
      "Iteration 35, loss = 0.02986909\n",
      "Iteration 36, loss = 0.02881817\n",
      "Iteration 37, loss = 0.02846182\n",
      "Iteration 38, loss = 0.02698821\n",
      "Iteration 39, loss = 0.02659175\n",
      "Iteration 40, loss = 0.02600322\n",
      "Iteration 41, loss = 0.02672114\n",
      "Iteration 42, loss = 0.02402793\n",
      "Iteration 43, loss = 0.02361506\n",
      "Iteration 44, loss = 0.02304206\n",
      "Iteration 45, loss = 0.02329705\n",
      "Iteration 46, loss = 0.02237471\n",
      "Iteration 47, loss = 0.02242899\n",
      "Iteration 48, loss = 0.02160600\n",
      "Iteration 49, loss = 0.02005908\n",
      "Iteration 50, loss = 0.01967912\n",
      "Iteration 51, loss = 0.01981420\n",
      "Iteration 52, loss = 0.01881218\n",
      "Iteration 53, loss = 0.01782854\n",
      "Iteration 54, loss = 0.01742847\n",
      "Iteration 55, loss = 0.01707113\n",
      "Iteration 56, loss = 0.01663110\n",
      "Iteration 57, loss = 0.01648932\n",
      "Iteration 58, loss = 0.01545319\n",
      "Iteration 59, loss = 0.01504515\n",
      "Iteration 60, loss = 0.01505713\n",
      "Iteration 61, loss = 0.01517564\n",
      "Iteration 62, loss = 0.01397477\n",
      "Iteration 63, loss = 0.01379832\n",
      "Iteration 64, loss = 0.01361953\n",
      "Iteration 65, loss = 0.01304471\n",
      "Iteration 66, loss = 0.01323892\n",
      "Iteration 67, loss = 0.01291158\n",
      "Iteration 68, loss = 0.01249397\n",
      "Iteration 69, loss = 0.01161372\n",
      "Iteration 70, loss = 0.01176921\n",
      "Iteration 71, loss = 0.01090623\n",
      "Iteration 72, loss = 0.01093139\n",
      "Iteration 73, loss = 0.01032024\n",
      "Iteration 74, loss = 0.01001956\n",
      "Iteration 75, loss = 0.00994997\n",
      "Iteration 76, loss = 0.00949532\n",
      "Iteration 77, loss = 0.00925118\n",
      "Iteration 78, loss = 0.00924137\n",
      "Iteration 79, loss = 0.00882543\n",
      "Iteration 80, loss = 0.00872082\n",
      "Iteration 81, loss = 0.00875226\n",
      "Iteration 82, loss = 0.00840251\n",
      "Iteration 83, loss = 0.00811066\n",
      "Iteration 84, loss = 0.00785836\n",
      "Iteration 85, loss = 0.00774279\n",
      "Iteration 86, loss = 0.00754626\n",
      "Iteration 87, loss = 0.00749678\n",
      "Iteration 88, loss = 0.00724360\n",
      "Iteration 89, loss = 0.00706575\n",
      "Iteration 90, loss = 0.00707792\n",
      "Iteration 91, loss = 0.00693094\n",
      "Iteration 92, loss = 0.00661207\n",
      "Iteration 93, loss = 0.00655206\n",
      "Iteration 94, loss = 0.00638764\n",
      "Iteration 95, loss = 0.00629393\n",
      "Iteration 96, loss = 0.00616332\n",
      "Iteration 97, loss = 0.00618290\n",
      "Iteration 98, loss = 0.00599432\n",
      "Iteration 99, loss = 0.00583279\n",
      "Iteration 100, loss = 0.00570917\n",
      "Iteration 101, loss = 0.00564494\n",
      "Iteration 102, loss = 0.00552310\n",
      "Iteration 103, loss = 0.00548523\n",
      "Iteration 104, loss = 0.00538534\n",
      "Iteration 105, loss = 0.00535471\n",
      "Iteration 106, loss = 0.00520250\n",
      "Iteration 107, loss = 0.00521495\n",
      "Iteration 108, loss = 0.00504235\n",
      "Iteration 109, loss = 0.00497048\n",
      "Iteration 110, loss = 0.00499107\n",
      "Iteration 111, loss = 0.00484938\n",
      "Iteration 112, loss = 0.00479717\n",
      "Iteration 113, loss = 0.00471968\n",
      "Iteration 114, loss = 0.00465080\n",
      "Iteration 115, loss = 0.00461693\n",
      "Iteration 116, loss = 0.00452203\n",
      "Iteration 117, loss = 0.00450010\n",
      "Iteration 118, loss = 0.00440729\n",
      "Iteration 119, loss = 0.00439223\n",
      "Iteration 120, loss = 0.00431534\n",
      "Iteration 121, loss = 0.00429248\n",
      "Iteration 122, loss = 0.00422472\n",
      "Training loss did not improve more than tol=0.000100 for 10 consecutive epochs. Stopping.\n"
     ]
    },
    {
     "data": {
      "text/html": [
       "<style>#sk-container-id-1 {color: black;background-color: white;}#sk-container-id-1 pre{padding: 0;}#sk-container-id-1 div.sk-toggleable {background-color: white;}#sk-container-id-1 label.sk-toggleable__label {cursor: pointer;display: block;width: 100%;margin-bottom: 0;padding: 0.3em;box-sizing: border-box;text-align: center;}#sk-container-id-1 label.sk-toggleable__label-arrow:before {content: \"▸\";float: left;margin-right: 0.25em;color: #696969;}#sk-container-id-1 label.sk-toggleable__label-arrow:hover:before {color: black;}#sk-container-id-1 div.sk-estimator:hover label.sk-toggleable__label-arrow:before {color: black;}#sk-container-id-1 div.sk-toggleable__content {max-height: 0;max-width: 0;overflow: hidden;text-align: left;background-color: #f0f8ff;}#sk-container-id-1 div.sk-toggleable__content pre {margin: 0.2em;color: black;border-radius: 0.25em;background-color: #f0f8ff;}#sk-container-id-1 input.sk-toggleable__control:checked~div.sk-toggleable__content {max-height: 200px;max-width: 100%;overflow: auto;}#sk-container-id-1 input.sk-toggleable__control:checked~label.sk-toggleable__label-arrow:before {content: \"▾\";}#sk-container-id-1 div.sk-estimator input.sk-toggleable__control:checked~label.sk-toggleable__label {background-color: #d4ebff;}#sk-container-id-1 div.sk-label input.sk-toggleable__control:checked~label.sk-toggleable__label {background-color: #d4ebff;}#sk-container-id-1 input.sk-hidden--visually {border: 0;clip: rect(1px 1px 1px 1px);clip: rect(1px, 1px, 1px, 1px);height: 1px;margin: -1px;overflow: hidden;padding: 0;position: absolute;width: 1px;}#sk-container-id-1 div.sk-estimator {font-family: monospace;background-color: #f0f8ff;border: 1px dotted black;border-radius: 0.25em;box-sizing: border-box;margin-bottom: 0.5em;}#sk-container-id-1 div.sk-estimator:hover {background-color: #d4ebff;}#sk-container-id-1 div.sk-parallel-item::after {content: \"\";width: 100%;border-bottom: 1px solid gray;flex-grow: 1;}#sk-container-id-1 div.sk-label:hover label.sk-toggleable__label {background-color: #d4ebff;}#sk-container-id-1 div.sk-serial::before {content: \"\";position: absolute;border-left: 1px solid gray;box-sizing: border-box;top: 0;bottom: 0;left: 50%;z-index: 0;}#sk-container-id-1 div.sk-serial {display: flex;flex-direction: column;align-items: center;background-color: white;padding-right: 0.2em;padding-left: 0.2em;position: relative;}#sk-container-id-1 div.sk-item {position: relative;z-index: 1;}#sk-container-id-1 div.sk-parallel {display: flex;align-items: stretch;justify-content: center;background-color: white;position: relative;}#sk-container-id-1 div.sk-item::before, #sk-container-id-1 div.sk-parallel-item::before {content: \"\";position: absolute;border-left: 1px solid gray;box-sizing: border-box;top: 0;bottom: 0;left: 50%;z-index: -1;}#sk-container-id-1 div.sk-parallel-item {display: flex;flex-direction: column;z-index: 1;position: relative;background-color: white;}#sk-container-id-1 div.sk-parallel-item:first-child::after {align-self: flex-end;width: 50%;}#sk-container-id-1 div.sk-parallel-item:last-child::after {align-self: flex-start;width: 50%;}#sk-container-id-1 div.sk-parallel-item:only-child::after {width: 0;}#sk-container-id-1 div.sk-dashed-wrapped {border: 1px dashed gray;margin: 0 0.4em 0.5em 0.4em;box-sizing: border-box;padding-bottom: 0.4em;background-color: white;}#sk-container-id-1 div.sk-label label {font-family: monospace;font-weight: bold;display: inline-block;line-height: 1.2em;}#sk-container-id-1 div.sk-label-container {text-align: center;}#sk-container-id-1 div.sk-container {/* jupyter's `normalize.less` sets `[hidden] { display: none; }` but bootstrap.min.css set `[hidden] { display: none !important; }` so we also need the `!important` here to be able to override the default hidden behavior on the sphinx rendered scikit-learn.org. See: https://github.com/scikit-learn/scikit-learn/issues/21755 */display: inline-block !important;position: relative;}#sk-container-id-1 div.sk-text-repr-fallback {display: none;}</style><div id=\"sk-container-id-1\" class=\"sk-top-container\"><div class=\"sk-text-repr-fallback\"><pre>MLPClassifier(batch_size=10, hidden_layer_sizes=(500, 5),\n",
       "              learning_rate=&#x27;adaptive&#x27;, verbose=True)</pre><b>In a Jupyter environment, please rerun this cell to show the HTML representation or trust the notebook. <br />On GitHub, the HTML representation is unable to render, please try loading this page with nbviewer.org.</b></div><div class=\"sk-container\" hidden><div class=\"sk-item\"><div class=\"sk-estimator sk-toggleable\"><input class=\"sk-toggleable__control sk-hidden--visually\" id=\"sk-estimator-id-1\" type=\"checkbox\" checked><label for=\"sk-estimator-id-1\" class=\"sk-toggleable__label sk-toggleable__label-arrow\">MLPClassifier</label><div class=\"sk-toggleable__content\"><pre>MLPClassifier(batch_size=10, hidden_layer_sizes=(500, 5),\n",
       "              learning_rate=&#x27;adaptive&#x27;, verbose=True)</pre></div></div></div></div></div>"
      ],
      "text/plain": [
       "MLPClassifier(batch_size=10, hidden_layer_sizes=(500, 5),\n",
       "              learning_rate='adaptive', verbose=True)"
      ]
     },
     "execution_count": 20,
     "metadata": {},
     "output_type": "execute_result"
    }
   ],
   "source": [
    "from sklearn.neural_network import MLPClassifier\n",
    "\n",
    "nn = MLPClassifier(hidden_layer_sizes = (500,5),\n",
    "                   activation         = 'relu',\n",
    "                   solver             = 'adam',\n",
    "                   alpha              = 1e-4,\n",
    "                   batch_size         = 10,\n",
    "                   learning_rate      = 'adaptive',\n",
    "                   verbose            = True)\n",
    "nn.fit(X_train, y_train)"
   ]
  },
  {
   "cell_type": "code",
   "execution_count": 21,
   "metadata": {},
   "outputs": [],
   "source": [
    "pred_nn = nn.predict(X_test)"
   ]
  },
  {
   "cell_type": "code",
   "execution_count": 22,
   "metadata": {},
   "outputs": [
    {
     "name": "stdout",
     "output_type": "stream",
     "text": [
      "====================\n",
      "nn Classifier Metrics:\n",
      "Accuracy: 0.4857142857142857\n",
      "Precision: 0.5488888888888889\n",
      "Recall: 0.41944444444444445\n",
      "F1-Score: 0.5040935672514619\n",
      "====================\n"
     ]
    }
   ],
   "source": [
    "accuracy_nn  = accuracy_score(y_test, pred_nn)\n",
    "precision_nn = precision_score(y_test, pred_nn, average='macro')\n",
    "recall_nn    = recall_score(y_test, pred_nn, average='macro')\n",
    "fscore_nn    = f1_score(y_test, pred_voting, average='macro')\n",
    "print('='*20)\n",
    "print('nn Classifier Metrics:')\n",
    "print(f'Accuracy: {accuracy_nn}')\n",
    "print(f'Precision: {precision_nn}')\n",
    "print(f'Recall: {recall_nn}')\n",
    "print(f'F1-Score: {fscore_nn}')\n",
    "print('='*20)"
   ]
  }
 ],
 "metadata": {
  "kernelspec": {
   "display_name": "Python 3.8.10 64-bit",
   "language": "python",
   "name": "python3"
  },
  "language_info": {
   "codemirror_mode": {
    "name": "ipython",
    "version": 3
   },
   "file_extension": ".py",
   "mimetype": "text/x-python",
   "name": "python",
   "nbconvert_exporter": "python",
   "pygments_lexer": "ipython3",
   "version": "3.8.10"
  },
  "orig_nbformat": 4,
  "vscode": {
   "interpreter": {
    "hash": "916dbcbb3f70747c44a77c7bcd40155683ae19c65e1c03b4aa3499c5328201f1"
   }
  }
 },
 "nbformat": 4,
 "nbformat_minor": 2
}
